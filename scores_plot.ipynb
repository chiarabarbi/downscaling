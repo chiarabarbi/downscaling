{
 "cells": [
  {
   "cell_type": "code",
   "execution_count": 2,
   "metadata": {},
   "outputs": [],
   "source": [
    "import pandas as pd\n",
    "import numpy as np\n",
    "from datetime import datetime, date\n",
    "import geopandas as gpd\n",
    "from geopandas import GeoDataFrame\n",
    "import shapely\n",
    "from shapely.geometry import Point\n",
    "import matplotlib.pyplot as plt\n",
    "import plotly.express as px\n",
    "import folium\n",
    "import json\n",
    "import re\n",
    "import openpyxl\n",
    "import seaborn as sns\n",
    "from matplotlib import cm\n",
    "from matplotlib.colors import ListedColormap, LinearSegmentedColormap\n",
    "import random\n",
    "from pykml import parser\n",
    "from os import path"
   ]
  },
  {
   "cell_type": "code",
   "execution_count": 3,
   "metadata": {},
   "outputs": [],
   "source": [
    "path = '/Users/chiara/Desktop/git_repos/Terna/clustering/downscaling_R/GIS_Polimi/vento/griglia_vento.shp'\n",
    "df = gpd.read_file(path)\n",
    "df.head()\n",
    "df['Id'] = df['Id'].astype(str)\n",
    "path_scores = '/Users/chiara/Desktop/git_repos/Terna/clustering/downscaling_R/csv_files/scores_conditioned.csv'\n",
    "scores = pd.read_csv(path_scores, sep = ',')\n",
    "scores['Id'] = scores['Id'].astype(str)\n",
    "scores.rename(columns = {'ID' : 'Id', 'Unnamed: 1': 'PC1', 'Unnamed: 2': 'PC2'}, inplace = True)\n",
    "final_geom = df.merge(scores, how = 'left', on = 'Id')\n",
    "final_geom['lon'] = final_geom['geometry'].apply(lambda x : np.dstack((x.exterior.coords.xy)).tolist()[0][0][0] )\n",
    "final_geom['lat'] = final_geom['geometry'].apply(lambda x : np.dstack((x.exterior.coords.xy)).tolist()[0][0][1] )\n",
    "mask = (final_geom.lat >= 44.89) & (final_geom.lon >= 9.16 )\n",
    "final_geom = final_geom[~mask]\n",
    "final_geom.drop(['lat', 'lon'], axis = 1, inplace = True)\n",
    "final_geom = final_geom.to_crs(\"EPSG:4326\")\n",
    "\n",
    "final_geom.to_file('/Users/chiara/Desktop/git_repos/Terna/clustering/downscaling_R/GIS_Polimi/projected/vento/original_crs_poly.shp')\n",
    "\n",
    "final_geom = final_geom.to_crs(\"EPSG:32632\")\n",
    "final_geom.Shape_Area = final_geom.geometry.area\n",
    "final_geom.Shape_Leng = final_geom.geometry.length\n",
    "final_geom.to_file('/Users/chiara/Desktop/git_repos/Terna/clustering/downscaling_R/GIS_Polimi/projected/vento/projected_poly.shp')\n"
   ]
  }
 ],
 "metadata": {
  "kernelspec": {
   "display_name": "Python 3.9.5 64-bit",
   "language": "python",
   "name": "python3"
  },
  "language_info": {
   "codemirror_mode": {
    "name": "ipython",
    "version": 3
   },
   "file_extension": ".py",
   "mimetype": "text/x-python",
   "name": "python",
   "nbconvert_exporter": "python",
   "pygments_lexer": "ipython3",
   "version": "3.9.5"
  },
  "orig_nbformat": 4,
  "vscode": {
   "interpreter": {
    "hash": "aee8b7b246df8f9039afb4144a1f6fd8d2ca17a180786b69acc140d282b71a49"
   }
  }
 },
 "nbformat": 4,
 "nbformat_minor": 2
}
